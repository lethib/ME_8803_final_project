{
 "cells": [
  {
   "cell_type": "markdown",
   "id": "91324372",
   "metadata": {},
   "source": [
    "# Homework 8: Assessing Datasets for ML Viability\n",
    "\n",
    "In this homework assignment, project-based students (all grad students, optional for UG students) should answer the following questions using their own datasets. Other students should choose 2 of the 3 journal articles that are in the hw06 folder on Canvas. For students critiquing journal articles, first perform independent analysis, independent of what the authors wrote. Then, the last question will ask you to compare your own assessments vs. the authors' assessments."
   ]
  },
  {
   "cell_type": "markdown",
   "id": "82955f87",
   "metadata": {},
   "source": [
    "## Question 1: Describe the dataset(s). Consider: \n",
    "   1. What kinds of data are included? e.g., Scalar valued data? Time series? Spectral data? Image data? etc.\n",
    "   1. What are all of the different features (potential factors, cofactors, and responses) of the dataset?\n",
    "   1. Is the dataset dense, sparse, or are certain features dense while others are sparse?\n",
    "   1. How were the data obtained? Experiments? Simulations? A mixture? Are some of the features calculated variables of other features?\n",
    "   1. What is the overall dimension of the data?\n",
    "\n",
    "   11 features (which could be fine to train a Machine Learning model) but we can rapidly see that the cite source won't be really useful to train. Moreover, after a quick inspection of the dataset, we saw that always the same material has been used which means that the material isn't a clever to keep to train our Machine Learning model.\n",
    "\n",
    "   After some dimensionality reduction using the analysis of the variance method, we can reduce the number of features to 5 (as the sample number if the identifier of the experience). So at the end, we have 321 samples which would be useful to train the Machine Learning Model on 5 features (which is a good number of samples for 5 input features). \n",
    "\n",
    "   With all of these 5 input features, we have 6 responses properties which are... But the study mainly focuses on Relative Density and Micro-Hardness ones. "
   ]
  },
  {
   "cell_type": "markdown",
   "id": "d9b2c4a5",
   "metadata": {},
   "source": [
    "## Question 2: Assess the dataset(s) for sufficient sampling. Consider:\n",
    "   1. Which of the features are well sampled (e.g., is it feasible that the samples of *response features* represent random sampling of probability densities? If not, which ones are? How are the input features sampled? Is there sufficient variation to support statistical modeling?, etc.).\n",
    "   1. Of the response features that are sufficiently sampled, what is the nature of the probability densities suggested by the samples? (continuous vs. discrete, is there an identifiable distribution like uniform vs. Gaussian vs. bimodal vs. lognormal vs. Weibull...? Or is the probability density in higher dimension? etc.)"
   ]
  },
  {
   "cell_type": "markdown",
   "id": "ff0c2889",
   "metadata": {},
   "source": [
    "## Question 3: Assess the dataset(s) for statistical relationships. Consider:\n",
    "   1. Are any of the data features cross-correlated (i.e., highly correlated)? Are any of them completely uncorrelated?\n",
    "   1. If the factor-response relationships are defined, what are the relationships between the factors and each response? Are any of them obvious/well-defined by 2D analyses?\n",
    "   1. Are higher dimensional relationships evident? (use a higher dimension visualization technique, in addition to low dimension techniques, to critically assess and probe these relationships)."
   ]
  },
  {
   "cell_type": "markdown",
   "id": "6bd2defc",
   "metadata": {},
   "source": [
    "## Question 4: Develop process model(s) to pursue considering the answers for 1-3. \n",
    "Homework students will compare their own assessment with the authors work and choice of process models. Project students will develop their own process models to take forward in their projects. Consider:\n",
    "   1. What is the technical/statistical purpose of each process model (screening, prediction, etc.)? What are the engineering goals/aims of the impacts of the process model(s)? What advancement to the state of the art will be made and/or what problems will be solved that weren't solved before? \n",
    "   1. What are the factors, cofactors, and responses for each model? How do the answers from 1-3 motivate these choices (or if assessing authors work, do their datasets support their choices)?"
   ]
  },
  {
   "cell_type": "code",
   "execution_count": null,
   "id": "97cb21ef",
   "metadata": {},
   "outputs": [],
   "source": []
  }
 ],
 "metadata": {
  "kernelspec": {
   "display_name": "Python 3 (ipykernel)",
   "language": "python",
   "name": "python3"
  },
  "language_info": {
   "codemirror_mode": {
    "name": "ipython",
    "version": 3
   },
   "file_extension": ".py",
   "mimetype": "text/x-python",
   "name": "python",
   "nbconvert_exporter": "python",
   "pygments_lexer": "ipython3",
   "version": "3.11.4"
  }
 },
 "nbformat": 4,
 "nbformat_minor": 5
}
