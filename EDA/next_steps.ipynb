{
 "cells": [
  {
   "cell_type": "markdown",
   "metadata": {},
   "source": [
    "# Next Steps of the project\n",
    "\n",
    "This notebook aims to answer the question 4 of the Homework."
   ]
  },
  {
   "cell_type": "markdown",
   "metadata": {},
   "source": [
    "## 1. Technical/Statistical purpose of each process model\n",
    "\n",
    "Before training any model, a step of data cleaning is necessary to deal with missing values. There are several ways to deal with that:\n",
    "\n",
    "- If a country contains lot of missing values for a given feature, we drop it from the dataset.\n",
    "- If a country contains few missing values (data missing for 3 or 4 years), we impute the missing values with a hot-deck strategy (preserves the distribution) or linear interpolation (to have more accurate data).\n",
    "\n",
    "\n",
    "Both problems (predicting CO2 emissions and the primary energy consumption per capita) are regression problems. So we naturally use regression models to answer those problems."
   ]
  },
  {
   "cell_type": "markdown",
   "metadata": {},
   "source": [
    "### Linear Regression\n",
    "\n",
    "One of the most-used regression algorithms in Machine Learning. According to our analysis, we have continuous features that are well correlated with the response feature which means that a linear model could be a good choice and the Linear Regression is the simplest one.\n",
    "\n",
    "The aim of this model is to find the best linear relationship between the input and output variables."
   ]
  },
  {
   "cell_type": "markdown",
   "metadata": {},
   "source": [
    "Then based on this cheatsheet, we can identify other models that could be interesting to use:\n",
    "\n",
    "![cheatsheet](https://scikit-learn.org/stable/_static/ml_map.png)"
   ]
  },
  {
   "cell_type": "markdown",
   "metadata": {},
   "source": [
    "According to our analysis, the path is the following one: *>50 samples* **->** *Predicting a quantity* **->** *<100k samples* **->** *Few features should be important*\n",
    "\n",
    "As the term few features is quite subjective, we will try one of each model that is proposed in the cheatsheet and compare the results."
   ]
  },
  {
   "cell_type": "markdown",
   "metadata": {},
   "source": [
    "### Elastic Net\n",
    "\n",
    "Elastic Net is a regularized regression method that linearly combines the L1 and L2 penalties of the lasso and ridge methods. These methods adresses the issue of overfitting in Linear Regression. Penalties are helpful to control the complexity of the model. It is useful when there are multiple features which are correlated with one another.\n",
    "\n",
    "As we need to find a correct parameter (the penalty), we will use cross-validation to find the best one."
   ]
  },
  {
   "cell_type": "markdown",
   "metadata": {},
   "source": [
    "### Linear SVR\n",
    "\n",
    "Support Vector Regression is a regression algorithm that uses the same principle as Support Vector Machine. It is a powerful model that can be used for linear or non-linear regression. As we seems to have a linear relationship between the input and output variables, we will use the linear version of the model (a linear kernel). It also add a penalty parameter to control the complexity of the model and may reduce the risk of overfitting introduced by the Linear Regression."
   ]
  },
  {
   "cell_type": "markdown",
   "metadata": {},
   "source": [
    "## 2. Factors, Cofactors, and Responses for each model\n",
    "\n",
    "As those models are quite similar in terms of input and output variables, we will use the same ones for each model."
   ]
  },
  {
   "cell_type": "markdown",
   "metadata": {},
   "source": [
    "### CO2 Emissions\n",
    "\n",
    "| Features | Factors | Cofactors | Response |\n",
    "| ----------------- | :---------: | :---------: | :---------: |\n",
    "| Electricity from fossil fuels (TWh)                               | X | X | |\n",
    "| Electricity from nuclear (TWh)                                    | X | X | |\n",
    "| Electricity from renewables (TWh)                                 | X | X | |\n",
    "| Land Area (Km2)                                                   | X | X | |\n",
    "| Value_co2_emissions_kt_by_country                                 | | | X |\n",
    "\n",
    "The feature selection has been determined in the [dataset sampling analysis notebook](./dataset_sampling.ipynb)."
   ]
  },
  {
   "cell_type": "markdown",
   "metadata": {},
   "source": [
    "### Primary Energy Consumption per Capita\n",
    "\n",
    "| Features | Factors | Cofactors | Response |\n",
    "| ----------------- | :---------: | :---------: | :---------: |\n",
    "| Access to electricity (% of population)                           | X | X | |\n",
    "| Access to clean fuels for cooking                                 | X | X | |\n",
    "| Renewable energy share in the total final energy consumption (%)  | X | X | |\n",
    "| Primary energy consumption per capita (kWh/person)                | |  | X |\n",
    "| GDP per capita                                                    | X | X | |\n",
    "\n",
    "The feature selection has been determined in the [dataset sampling analysis notebook](./dataset_sampling.ipynb)."
   ]
  }
 ],
 "metadata": {
  "language_info": {
   "name": "python"
  }
 },
 "nbformat": 4,
 "nbformat_minor": 2
}
