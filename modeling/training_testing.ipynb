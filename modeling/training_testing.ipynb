{
 "cells": [
  {
   "cell_type": "markdown",
   "metadata": {},
   "source": [
    "# ML model Training (Question 3 of the Homework)"
   ]
  },
  {
   "cell_type": "code",
   "execution_count": 24,
   "metadata": {},
   "outputs": [],
   "source": [
    "# Standard imports\n",
    "import pandas as pd\n",
    "import numpy as np\n",
    "import matplotlib.pyplot as plt\n",
    "import seaborn as sns\n",
    "\n",
    "custom_style = {\"grid.color\": \"black\", \"grid.linestyle\": \":\", \"grid.linewidth\": 0.3, \"axes.edgecolor\": \"black\", \"ytick.left\": True, \"xtick.bottom\": True}\n",
    "sns.set_context(\"notebook\")\n",
    "sns.set_theme(style=\"whitegrid\", rc=custom_style)"
   ]
  },
  {
   "cell_type": "code",
   "execution_count": 3,
   "metadata": {},
   "outputs": [],
   "source": [
    "# Read datasets\n",
    "\n",
    "df_pe = pd.read_csv(\"../data/pe/cleaned/pe_dataset.csv\")\n",
    "normalized_df_pe = pd.read_csv(\"../data/pe/cleaned/normalized_pe_dataset.csv\")\n",
    "normalized_df_pe_without_outliers = pd.read_csv(\"../data/pe/cleaned/normalized_pe_dataset_without_outliers.csv\")"
   ]
  },
  {
   "cell_type": "code",
   "execution_count": 4,
   "metadata": {},
   "outputs": [],
   "source": [
    "def splitDataset(df, test_size=0.15, should_have_validation_set=True):\n",
    "    from sklearn.model_selection import train_test_split\n",
    "    X = df.drop(columns=['Entity', 'Year','Primary energy consumption per capita (kWh/person)'])\n",
    "    y = df['Primary energy consumption per capita (kWh/person)']\n",
    "    X_pretrain, X_test, y_pretrain, y_test = train_test_split(X, y, test_size=test_size, shuffle=True, random_state=None)\n",
    "\n",
    "    if should_have_validation_set:\n",
    "        X_train, X_val, y_train, y_val = train_test_split(X_pretrain, y_pretrain, test_size=test_size/(1-test_size), shuffle=True, random_state=None)\n",
    "        print(X_train.shape, X_test.shape, X_val.shape, y_train.shape, y_test.shape, y_val.shape)\n",
    "        return X_train, X_test, X_val, y_train, y_test, y_val\n",
    "    \n",
    "    print(X_pretrain.shape, X_test.shape, y_pretrain.shape, y_test.shape)\n",
    "    return X_pretrain, X_test, y_pretrain, y_test"
   ]
  },
  {
   "cell_type": "markdown",
   "metadata": {},
   "source": [
    "## Linear Regression\n",
    "\n",
    "As seen in the [ML algorithm selection notebook](ML_algorithm_selection.ipynb), the linear model does not have any hyperparameters to tune. Therefore, cross-validation is not required. We can split our datasets into training, testing and validation sets like so:\n",
    "\n",
    "- Training set: 80%\n",
    "- Testing set: 20%\n",
    "\n",
    "To do that, I'll use the `train_test_split` function from `sklearn.model_selection` module. This function provides parameters to shuffle or not our dataset before splitting it. I'll set the `shuffle` parameter to `True` to ensure that the data is shuffled before splitting it. According to [scikit-learn documentation](https://scikit-learn.org/stable/glossary.html#term-random_state), by default the function will use the global random state from `np.random` module to shuffle the data. \n",
    "\n",
    "NOTE: I don't see the use here of having reproducible results, so I'll leave the `random_state` parameter to `None`. "
   ]
  },
  {
   "cell_type": "code",
   "execution_count": 5,
   "metadata": {},
   "outputs": [
    {
     "name": "stdout",
     "output_type": "stream",
     "text": [
      "(2554, 4) (639, 4) (2554,) (639,)\n",
      "(2554, 4) (639, 4) (2554,) (639,)\n",
      "(2407, 4) (602, 4) (2407,) (602,)\n"
     ]
    }
   ],
   "source": [
    "# Split datasets into train, test and validation sets\n",
    "X_pe_train, X_pe_test, y_pe_train, y_pe_test = splitDataset(df_pe, test_size=0.2, should_have_validation_set=False)\n",
    "\n",
    "# nor -> normalized\n",
    "X_nor_pe_train, X_nor_pe_test, y_nor_pe_train, y_nor_pe_test = splitDataset(normalized_df_pe, test_size=0.2, should_have_validation_set=False)\n",
    "\n",
    "# nor_wo -> normalized without outliers\n",
    "X_nor_pe_wo_train, X_nor_pe_wo_test, y_nor_pe_wo_train, y_nor_pe_wo_test = splitDataset(normalized_df_pe_without_outliers, test_size=0.2, should_have_validation_set=False)\n"
   ]
  },
  {
   "cell_type": "markdown",
   "metadata": {},
   "source": [
    "Once we have our subsets, we can train our model using the training set for each dataset."
   ]
  },
  {
   "cell_type": "code",
   "execution_count": 6,
   "metadata": {},
   "outputs": [],
   "source": [
    "# Model training\n",
    "\n",
    "from sklearn.linear_model import LinearRegression\n",
    "\n",
    "LR_model = LinearRegression()\n",
    "LR_model_nor = LinearRegression()\n",
    "LR_model_nor_wo = LinearRegression()"
   ]
  },
  {
   "cell_type": "code",
   "execution_count": 7,
   "metadata": {},
   "outputs": [
    {
     "name": "stdout",
     "output_type": "stream",
     "text": [
      "R^2 score: 0.539\n"
     ]
    },
    {
     "data": {
      "text/html": [
       "<div>\n",
       "<style scoped>\n",
       "    .dataframe tbody tr th:only-of-type {\n",
       "        vertical-align: middle;\n",
       "    }\n",
       "\n",
       "    .dataframe tbody tr th {\n",
       "        vertical-align: top;\n",
       "    }\n",
       "\n",
       "    .dataframe thead th {\n",
       "        text-align: right;\n",
       "    }\n",
       "</style>\n",
       "<table border=\"1\" class=\"dataframe\">\n",
       "  <thead>\n",
       "    <tr style=\"text-align: right;\">\n",
       "      <th></th>\n",
       "      <th>Coefficient</th>\n",
       "    </tr>\n",
       "  </thead>\n",
       "  <tbody>\n",
       "    <tr>\n",
       "      <th>Access to electricity (% of population)</th>\n",
       "      <td>-89.994</td>\n",
       "    </tr>\n",
       "    <tr>\n",
       "      <th>Access to clean fuels for cooking</th>\n",
       "      <td>214.417</td>\n",
       "    </tr>\n",
       "    <tr>\n",
       "      <th>Renewable energy share in the total final energy consumption (%)</th>\n",
       "      <td>-139.134</td>\n",
       "    </tr>\n",
       "    <tr>\n",
       "      <th>gdp_per_capita</th>\n",
       "      <td>1.164</td>\n",
       "    </tr>\n",
       "    <tr>\n",
       "      <th>Intercept</th>\n",
       "      <td>10403.006</td>\n",
       "    </tr>\n",
       "  </tbody>\n",
       "</table>\n",
       "</div>"
      ],
      "text/plain": [
       "                                                    Coefficient\n",
       "Access to electricity (% of population)                 -89.994\n",
       "Access to clean fuels for cooking                       214.417\n",
       "Renewable energy share in the total final energ...     -139.134\n",
       "gdp_per_capita                                            1.164\n",
       "Intercept                                             10403.006"
      ]
     },
     "execution_count": 7,
     "metadata": {},
     "output_type": "execute_result"
    }
   ],
   "source": [
    "# Train on global dataset\n",
    "\n",
    "LR_model.fit(X_pe_train, y_pe_train)\n",
    "print(f'R^2 score: {LR_model.score(X_pe_train, y_pe_train).round(3)}')\n",
    "LR_coef = pd.DataFrame(LR_model.coef_, index=X_pe_train.columns, columns=['Coefficient'])\n",
    "LR_coef.loc['Intercept'] = LR_model.intercept_\n",
    "LR_coef.round(3)"
   ]
  },
  {
   "cell_type": "code",
   "execution_count": 8,
   "metadata": {},
   "outputs": [
    {
     "name": "stdout",
     "output_type": "stream",
     "text": [
      "R^2 score: 0.54\n"
     ]
    },
    {
     "data": {
      "text/html": [
       "<div>\n",
       "<style scoped>\n",
       "    .dataframe tbody tr th:only-of-type {\n",
       "        vertical-align: middle;\n",
       "    }\n",
       "\n",
       "    .dataframe tbody tr th {\n",
       "        vertical-align: top;\n",
       "    }\n",
       "\n",
       "    .dataframe thead th {\n",
       "        text-align: right;\n",
       "    }\n",
       "</style>\n",
       "<table border=\"1\" class=\"dataframe\">\n",
       "  <thead>\n",
       "    <tr style=\"text-align: right;\">\n",
       "      <th></th>\n",
       "      <th>Coefficient</th>\n",
       "    </tr>\n",
       "  </thead>\n",
       "  <tbody>\n",
       "    <tr>\n",
       "      <th>Access to electricity (% of population)</th>\n",
       "      <td>-0.034</td>\n",
       "    </tr>\n",
       "    <tr>\n",
       "      <th>Access to clean fuels for cooking</th>\n",
       "      <td>0.082</td>\n",
       "    </tr>\n",
       "    <tr>\n",
       "      <th>Renewable energy share in the total final energy consumption (%)</th>\n",
       "      <td>-0.052</td>\n",
       "    </tr>\n",
       "    <tr>\n",
       "      <th>gdp_per_capita</th>\n",
       "      <td>0.519</td>\n",
       "    </tr>\n",
       "    <tr>\n",
       "      <th>Intercept</th>\n",
       "      <td>0.041</td>\n",
       "    </tr>\n",
       "  </tbody>\n",
       "</table>\n",
       "</div>"
      ],
      "text/plain": [
       "                                                    Coefficient\n",
       "Access to electricity (% of population)                  -0.034\n",
       "Access to clean fuels for cooking                         0.082\n",
       "Renewable energy share in the total final energ...       -0.052\n",
       "gdp_per_capita                                            0.519\n",
       "Intercept                                                 0.041"
      ]
     },
     "execution_count": 8,
     "metadata": {},
     "output_type": "execute_result"
    }
   ],
   "source": [
    "# Train on normalized dataset\n",
    "\n",
    "LR_model_nor.fit(X_nor_pe_train, y_nor_pe_train)\n",
    "print(f'R^2 score: {LR_model_nor.score(X_nor_pe_train, y_nor_pe_train).round(3)}')\n",
    "LR_coef_nor = pd.DataFrame(LR_model_nor.coef_, index=X_nor_pe_train.columns, columns=['Coefficient'])\n",
    "LR_coef_nor.loc['Intercept'] = LR_model_nor.intercept_\n",
    "LR_coef_nor.round(3)"
   ]
  },
  {
   "cell_type": "code",
   "execution_count": 9,
   "metadata": {},
   "outputs": [
    {
     "name": "stdout",
     "output_type": "stream",
     "text": [
      "R^2 score: 0.699\n"
     ]
    },
    {
     "data": {
      "text/html": [
       "<div>\n",
       "<style scoped>\n",
       "    .dataframe tbody tr th:only-of-type {\n",
       "        vertical-align: middle;\n",
       "    }\n",
       "\n",
       "    .dataframe tbody tr th {\n",
       "        vertical-align: top;\n",
       "    }\n",
       "\n",
       "    .dataframe thead th {\n",
       "        text-align: right;\n",
       "    }\n",
       "</style>\n",
       "<table border=\"1\" class=\"dataframe\">\n",
       "  <thead>\n",
       "    <tr style=\"text-align: right;\">\n",
       "      <th></th>\n",
       "      <th>Coefficient</th>\n",
       "    </tr>\n",
       "  </thead>\n",
       "  <tbody>\n",
       "    <tr>\n",
       "      <th>Access to electricity (% of population)</th>\n",
       "      <td>-0.039</td>\n",
       "    </tr>\n",
       "    <tr>\n",
       "      <th>Access to clean fuels for cooking</th>\n",
       "      <td>0.172</td>\n",
       "    </tr>\n",
       "    <tr>\n",
       "      <th>Renewable energy share in the total final energy consumption (%)</th>\n",
       "      <td>-0.098</td>\n",
       "    </tr>\n",
       "    <tr>\n",
       "      <th>gdp_per_capita</th>\n",
       "      <td>0.839</td>\n",
       "    </tr>\n",
       "    <tr>\n",
       "      <th>Intercept</th>\n",
       "      <td>0.074</td>\n",
       "    </tr>\n",
       "  </tbody>\n",
       "</table>\n",
       "</div>"
      ],
      "text/plain": [
       "                                                    Coefficient\n",
       "Access to electricity (% of population)                  -0.039\n",
       "Access to clean fuels for cooking                         0.172\n",
       "Renewable energy share in the total final energ...       -0.098\n",
       "gdp_per_capita                                            0.839\n",
       "Intercept                                                 0.074"
      ]
     },
     "execution_count": 9,
     "metadata": {},
     "output_type": "execute_result"
    }
   ],
   "source": [
    "# Train on normalized dataset without outliers\n",
    "\n",
    "LR_model_nor_wo.fit(X_nor_pe_wo_train, y_nor_pe_wo_train)\n",
    "print(f'R^2 score: {LR_model_nor_wo.score(X_nor_pe_wo_train, y_nor_pe_wo_train).round(3)}')\n",
    "LR_coef_nor_wo = pd.DataFrame(LR_model_nor_wo.coef_, index=X_nor_pe_wo_train.columns, columns=['Coefficient'])\n",
    "LR_coef_nor_wo.loc['Intercept'] = LR_model_nor_wo.intercept_\n",
    "LR_coef_nor_wo.round(3)"
   ]
  },
  {
   "cell_type": "markdown",
   "metadata": {},
   "source": [
    "## Elastic Net\n",
    "\n",
    "As seen in the [ML algorithm selection notebook](ML_algorithm_selection.ipynb), the Elastic Net model do have 2 hyperparameters to tune. Therefore, we can use cross-validation to find the best combination of hyperparameters. The following procedure is followed for each of the k folds:\n",
    "\n",
    "- A model is trained using k-1 of the folds as training data;\n",
    "- The resulting model is validated on the remaining part of the data (i.e., it is used as a test set to compute a performance measure such as accuracy).\n",
    "\n",
    "![k-fold cross-validation](https://scikit-learn.org/stable/_images/grid_search_cross_validation.png)\n",
    "\n",
    "\n",
    "The performance measure reported by k-fold cross-validation is then the average of the values computed in the loop\n",
    "\n",
    "The scikit-learn library provides a built-in version of the Elastic Net algorithm that automatically finds good hyperparameters using cross-validation: [ElasticNetCV](https://scikit-learn.org/stable/modules/generated/sklearn.linear_model.ElasticNetCV.html#sklearn.linear_model.ElasticNetCV).\n",
    "\n",
    "So, to use this model, we need to set:\n",
    "\n",
    "- An array of $\\alpha$ values to test;\n",
    "- An array of $l1_{ratio}$ values to test; According to scikit-learn documentation on this model:\n",
    "\n",
    "    > A good choice of list of values for l1_ratio is often to put more values close to 1 (i.e. Lasso) and less close to 0 (i.e. Ridge), as in [.1, .5, .7, .9, .95, .99, 1].\n",
    "- The number of folds to use for cross-validation. (k = 10 is a good default value)."
   ]
  },
  {
   "cell_type": "code",
   "execution_count": 10,
   "metadata": {},
   "outputs": [],
   "source": [
    "# Model training\n",
    "\n",
    "from sklearn.linear_model import ElasticNetCV\n",
    "\n",
    "l1_ratios = [0.1, 0.5, 0.7, 0.9, 0.95, 0.99, 1]\n",
    "alphas = [1e-5, 1e-4, 1e-3, 1e-2, 1e-1, 1.0, 10.0, 100.0]\n",
    "\n",
    "EN_model = ElasticNetCV(l1_ratio=l1_ratios, alphas=alphas, cv=10)\n",
    "EN_model_nor = ElasticNetCV(l1_ratio=l1_ratios, alphas=alphas, cv=10)\n",
    "EN_model_nor_wo = ElasticNetCV(l1_ratio=l1_ratios, alphas=alphas, cv=10)"
   ]
  },
  {
   "cell_type": "code",
   "execution_count": 11,
   "metadata": {},
   "outputs": [
    {
     "name": "stdout",
     "output_type": "stream",
     "text": [
      "(2554, 4) (639, 4) (2554,) (639,)\n"
     ]
    },
    {
     "name": "stdout",
     "output_type": "stream",
     "text": [
      "alpha: 10.0\n",
      "l1_ratio: 0.1\n",
      "R^2 score: 0.547\n"
     ]
    },
    {
     "name": "stderr",
     "output_type": "stream",
     "text": [
      "/Library/Frameworks/Python.framework/Versions/3.9/lib/python3.9/site-packages/sklearn/linear_model/_coordinate_descent.py:634: ConvergenceWarning: Objective did not converge. You might want to increase the number of iterations. Duality gap: 1102472664.0583496, tolerance: 312800345.0532134\n",
      "  model = cd_fast.enet_coordinate_descent_gram(\n",
      "/Library/Frameworks/Python.framework/Versions/3.9/lib/python3.9/site-packages/sklearn/linear_model/_coordinate_descent.py:634: ConvergenceWarning: Objective did not converge. You might want to increase the number of iterations. Duality gap: 958137466.9204102, tolerance: 313731707.55899036\n",
      "  model = cd_fast.enet_coordinate_descent_gram(\n",
      "/Library/Frameworks/Python.framework/Versions/3.9/lib/python3.9/site-packages/sklearn/linear_model/_coordinate_descent.py:634: ConvergenceWarning: Objective did not converge. You might want to increase the number of iterations. Duality gap: 4202788372.876465, tolerance: 307539530.97148395\n",
      "  model = cd_fast.enet_coordinate_descent_gram(\n"
     ]
    },
    {
     "data": {
      "text/html": [
       "<div>\n",
       "<style scoped>\n",
       "    .dataframe tbody tr th:only-of-type {\n",
       "        vertical-align: middle;\n",
       "    }\n",
       "\n",
       "    .dataframe tbody tr th {\n",
       "        vertical-align: top;\n",
       "    }\n",
       "\n",
       "    .dataframe thead th {\n",
       "        text-align: right;\n",
       "    }\n",
       "</style>\n",
       "<table border=\"1\" class=\"dataframe\">\n",
       "  <thead>\n",
       "    <tr style=\"text-align: right;\">\n",
       "      <th></th>\n",
       "      <th>Coefficient</th>\n",
       "    </tr>\n",
       "  </thead>\n",
       "  <tbody>\n",
       "    <tr>\n",
       "      <th>Access to electricity (% of population)</th>\n",
       "      <td>-70.147</td>\n",
       "    </tr>\n",
       "    <tr>\n",
       "      <th>Access to clean fuels for cooking</th>\n",
       "      <td>203.707</td>\n",
       "    </tr>\n",
       "    <tr>\n",
       "      <th>Renewable energy share in the total final energy consumption (%)</th>\n",
       "      <td>-118.732</td>\n",
       "    </tr>\n",
       "    <tr>\n",
       "      <th>gdp_per_capita</th>\n",
       "      <td>1.179</td>\n",
       "    </tr>\n",
       "    <tr>\n",
       "      <th>Intercept</th>\n",
       "      <td>8442.170</td>\n",
       "    </tr>\n",
       "  </tbody>\n",
       "</table>\n",
       "</div>"
      ],
      "text/plain": [
       "                                                    Coefficient\n",
       "Access to electricity (% of population)                 -70.147\n",
       "Access to clean fuels for cooking                       203.707\n",
       "Renewable energy share in the total final energ...     -118.732\n",
       "gdp_per_capita                                            1.179\n",
       "Intercept                                              8442.170"
      ]
     },
     "execution_count": 11,
     "metadata": {},
     "output_type": "execute_result"
    }
   ],
   "source": [
    "# Train on global dataset\n",
    "\n",
    "X_pe_train, X_pe_test, y_pe_train, y_pe_test = splitDataset(df_pe, test_size=0.2, should_have_validation_set=False)\n",
    "\n",
    "EN_model.fit(X_pe_train, y_pe_train)\n",
    "\n",
    "print(f'alpha: {EN_model.alpha_}')\n",
    "print(f'l1_ratio: {EN_model.l1_ratio_}')\n",
    "print(f'R^2 score: {EN_model.score(X_pe_train, y_pe_train).round(3)}')\n",
    "\n",
    "EN_model_coef = pd.DataFrame(EN_model.coef_, index=X_pe_train.columns, columns=['Coefficient'])\n",
    "EN_model_coef.loc['Intercept'] = EN_model.intercept_\n",
    "EN_model_coef.round(3)"
   ]
  },
  {
   "cell_type": "code",
   "execution_count": 12,
   "metadata": {},
   "outputs": [
    {
     "name": "stdout",
     "output_type": "stream",
     "text": [
      "(2554, 4) (639, 4) (2554,) (639,)\n",
      "alpha: 0.0001\n",
      "l1_ratio: 0.1\n",
      "R^2 score: 0.539\n"
     ]
    },
    {
     "data": {
      "text/html": [
       "<div>\n",
       "<style scoped>\n",
       "    .dataframe tbody tr th:only-of-type {\n",
       "        vertical-align: middle;\n",
       "    }\n",
       "\n",
       "    .dataframe tbody tr th {\n",
       "        vertical-align: top;\n",
       "    }\n",
       "\n",
       "    .dataframe thead th {\n",
       "        text-align: right;\n",
       "    }\n",
       "</style>\n",
       "<table border=\"1\" class=\"dataframe\">\n",
       "  <thead>\n",
       "    <tr style=\"text-align: right;\">\n",
       "      <th></th>\n",
       "      <th>Coefficient</th>\n",
       "    </tr>\n",
       "  </thead>\n",
       "  <tbody>\n",
       "    <tr>\n",
       "      <th>Access to electricity (% of population)</th>\n",
       "      <td>-0.030</td>\n",
       "    </tr>\n",
       "    <tr>\n",
       "      <th>Access to clean fuels for cooking</th>\n",
       "      <td>0.080</td>\n",
       "    </tr>\n",
       "    <tr>\n",
       "      <th>Renewable energy share in the total final energy consumption (%)</th>\n",
       "      <td>-0.050</td>\n",
       "    </tr>\n",
       "    <tr>\n",
       "      <th>gdp_per_capita</th>\n",
       "      <td>0.523</td>\n",
       "    </tr>\n",
       "    <tr>\n",
       "      <th>Intercept</th>\n",
       "      <td>0.038</td>\n",
       "    </tr>\n",
       "  </tbody>\n",
       "</table>\n",
       "</div>"
      ],
      "text/plain": [
       "                                                    Coefficient\n",
       "Access to electricity (% of population)                  -0.030\n",
       "Access to clean fuels for cooking                         0.080\n",
       "Renewable energy share in the total final energ...       -0.050\n",
       "gdp_per_capita                                            0.523\n",
       "Intercept                                                 0.038"
      ]
     },
     "execution_count": 12,
     "metadata": {},
     "output_type": "execute_result"
    }
   ],
   "source": [
    "# Train on normalized dataset\n",
    "\n",
    "X_nor_pe_train, X_nor_pe_test, y_nor_pe_train, y_nor_pe_test = splitDataset(normalized_df_pe, test_size=0.2, should_have_validation_set=False)\n",
    "\n",
    "EN_model_nor.fit(X_nor_pe_train, y_nor_pe_train)\n",
    "\n",
    "print(f'alpha: {EN_model_nor.alpha_}')\n",
    "print(f'l1_ratio: {EN_model_nor.l1_ratio_}')\n",
    "print(f'R^2 score: {EN_model_nor.score(X_nor_pe_train, y_nor_pe_train).round(3)}')\n",
    "\n",
    "EN_model_nor_coef = pd.DataFrame(EN_model_nor.coef_, index=X_nor_pe_train.columns, columns=['Coefficient'])\n",
    "EN_model_nor_coef.loc['Intercept'] = EN_model_nor.intercept_\n",
    "EN_model_nor_coef.round(3)"
   ]
  },
  {
   "cell_type": "code",
   "execution_count": 13,
   "metadata": {},
   "outputs": [
    {
     "name": "stdout",
     "output_type": "stream",
     "text": [
      "(2407, 4) (602, 4) (2407,) (602,)\n"
     ]
    },
    {
     "name": "stdout",
     "output_type": "stream",
     "text": [
      "alpha: 1e-05\n",
      "l1_ratio: 0.5\n",
      "R^2 score: 0.705\n"
     ]
    },
    {
     "data": {
      "text/html": [
       "<div>\n",
       "<style scoped>\n",
       "    .dataframe tbody tr th:only-of-type {\n",
       "        vertical-align: middle;\n",
       "    }\n",
       "\n",
       "    .dataframe tbody tr th {\n",
       "        vertical-align: top;\n",
       "    }\n",
       "\n",
       "    .dataframe thead th {\n",
       "        text-align: right;\n",
       "    }\n",
       "</style>\n",
       "<table border=\"1\" class=\"dataframe\">\n",
       "  <thead>\n",
       "    <tr style=\"text-align: right;\">\n",
       "      <th></th>\n",
       "      <th>Coefficient</th>\n",
       "    </tr>\n",
       "  </thead>\n",
       "  <tbody>\n",
       "    <tr>\n",
       "      <th>Access to electricity (% of population)</th>\n",
       "      <td>-0.032</td>\n",
       "    </tr>\n",
       "    <tr>\n",
       "      <th>Access to clean fuels for cooking</th>\n",
       "      <td>0.169</td>\n",
       "    </tr>\n",
       "    <tr>\n",
       "      <th>Renewable energy share in the total final energy consumption (%)</th>\n",
       "      <td>-0.089</td>\n",
       "    </tr>\n",
       "    <tr>\n",
       "      <th>gdp_per_capita</th>\n",
       "      <td>0.837</td>\n",
       "    </tr>\n",
       "    <tr>\n",
       "      <th>Intercept</th>\n",
       "      <td>0.066</td>\n",
       "    </tr>\n",
       "  </tbody>\n",
       "</table>\n",
       "</div>"
      ],
      "text/plain": [
       "                                                    Coefficient\n",
       "Access to electricity (% of population)                  -0.032\n",
       "Access to clean fuels for cooking                         0.169\n",
       "Renewable energy share in the total final energ...       -0.089\n",
       "gdp_per_capita                                            0.837\n",
       "Intercept                                                 0.066"
      ]
     },
     "execution_count": 13,
     "metadata": {},
     "output_type": "execute_result"
    }
   ],
   "source": [
    "# Train on normalized dataset without outliers\n",
    "\n",
    "X_nor_pe_wo_train, X_nor_pe_wo_test, y_nor_pe_wo_train, y_nor_pe_wo_test = splitDataset(normalized_df_pe_without_outliers, test_size=0.2, should_have_validation_set=False)\n",
    "\n",
    "EN_model_nor_wo.fit(X_nor_pe_wo_train, y_nor_pe_wo_train)\n",
    "\n",
    "print(f'alpha: {EN_model_nor_wo.alpha_}')\n",
    "print(f'l1_ratio: {EN_model_nor_wo.l1_ratio_}')\n",
    "print(f'R^2 score: {EN_model_nor_wo.score(X_nor_pe_wo_train, y_nor_pe_wo_train).round(3)}')\n",
    "\n",
    "EN_model_nor_wo_coef = pd.DataFrame(EN_model_nor_wo.coef_, index=X_nor_pe_wo_train.columns, columns=['Coefficient'])\n",
    "EN_model_nor_wo_coef.loc['Intercept'] = EN_model_nor_wo.intercept_\n",
    "EN_model_nor_wo_coef.round(3)"
   ]
  },
  {
   "cell_type": "markdown",
   "metadata": {},
   "source": [
    "## Linear SVR\n",
    "\n",
    "As seen in the [ML algorithm selection notebook](ML_algorithm_selection.ipynb), the Elastic Net model do have 4 hyperparameters to tune. However, is those 4 hyperparameters, only 1 remains ($c$ hyperparameter) totally unknown for us. Other hyperparameters are known:\n",
    "\n",
    "- The loss function: `epsilon_insensitive` because we want to use standard Support Vector Regression;\n",
    "    - $\\epsilon$ value for the loss function: 0; According to the [scikit-learn documentation](https://scikit-learn.org/stable/modules/generated/sklearn.svm.LinearSVR.html): \n",
    "        > the value of this parameter depends on the scale of the target variable y. If unsure, set $\\epsilon$=0.\n",
    "\n",
    "- $tol$ value: 1e-4 (scikit-learn default value);\n",
    "\n",
    "\n",
    "Thus we can still perform cross-validation to find the best $c$ value. "
   ]
  },
  {
   "cell_type": "code",
   "execution_count": 14,
   "metadata": {},
   "outputs": [],
   "source": [
    "# Model training\n",
    "\n",
    "from sklearn.svm import LinearSVR\n",
    "from sklearn.model_selection import GridSearchCV\n",
    "\n",
    "param_grid = {'C': [10**i for i in range(-6, 1)]}\n",
    "\n",
    "base_LSVR_model = LinearSVR(loss='epsilon_insensitive', epsilon=0, max_iter=10_000)\n",
    "\n",
    "LSVR_model = GridSearchCV(base_LSVR_model, param_grid, cv=10, scoring='r2')\n",
    "LSVR_model_nor = GridSearchCV(base_LSVR_model, param_grid, cv=10, scoring='r2')\n",
    "LSVR_model_nor_wo = GridSearchCV(base_LSVR_model, param_grid, cv=10, scoring='r2')"
   ]
  },
  {
   "cell_type": "code",
   "execution_count": 15,
   "metadata": {},
   "outputs": [
    {
     "name": "stdout",
     "output_type": "stream",
     "text": [
      "(2554, 4) (639, 4) (2554,) (639,)\n"
     ]
    },
    {
     "name": "stderr",
     "output_type": "stream",
     "text": [
      "/Library/Frameworks/Python.framework/Versions/3.9/lib/python3.9/site-packages/sklearn/svm/_base.py:1225: ConvergenceWarning: Liblinear failed to converge, increase the number of iterations.\n",
      "  warnings.warn(\n",
      "/Library/Frameworks/Python.framework/Versions/3.9/lib/python3.9/site-packages/sklearn/svm/_base.py:1225: ConvergenceWarning: Liblinear failed to converge, increase the number of iterations.\n",
      "  warnings.warn(\n",
      "/Library/Frameworks/Python.framework/Versions/3.9/lib/python3.9/site-packages/sklearn/svm/_base.py:1225: ConvergenceWarning: Liblinear failed to converge, increase the number of iterations.\n",
      "  warnings.warn(\n",
      "/Library/Frameworks/Python.framework/Versions/3.9/lib/python3.9/site-packages/sklearn/svm/_base.py:1225: ConvergenceWarning: Liblinear failed to converge, increase the number of iterations.\n",
      "  warnings.warn(\n",
      "/Library/Frameworks/Python.framework/Versions/3.9/lib/python3.9/site-packages/sklearn/svm/_base.py:1225: ConvergenceWarning: Liblinear failed to converge, increase the number of iterations.\n",
      "  warnings.warn(\n",
      "/Library/Frameworks/Python.framework/Versions/3.9/lib/python3.9/site-packages/sklearn/svm/_base.py:1225: ConvergenceWarning: Liblinear failed to converge, increase the number of iterations.\n",
      "  warnings.warn(\n",
      "/Library/Frameworks/Python.framework/Versions/3.9/lib/python3.9/site-packages/sklearn/svm/_base.py:1225: ConvergenceWarning: Liblinear failed to converge, increase the number of iterations.\n",
      "  warnings.warn(\n",
      "/Library/Frameworks/Python.framework/Versions/3.9/lib/python3.9/site-packages/sklearn/svm/_base.py:1225: ConvergenceWarning: Liblinear failed to converge, increase the number of iterations.\n",
      "  warnings.warn(\n",
      "/Library/Frameworks/Python.framework/Versions/3.9/lib/python3.9/site-packages/sklearn/svm/_base.py:1225: ConvergenceWarning: Liblinear failed to converge, increase the number of iterations.\n",
      "  warnings.warn(\n",
      "/Library/Frameworks/Python.framework/Versions/3.9/lib/python3.9/site-packages/sklearn/svm/_base.py:1225: ConvergenceWarning: Liblinear failed to converge, increase the number of iterations.\n",
      "  warnings.warn(\n",
      "/Library/Frameworks/Python.framework/Versions/3.9/lib/python3.9/site-packages/sklearn/svm/_base.py:1225: ConvergenceWarning: Liblinear failed to converge, increase the number of iterations.\n",
      "  warnings.warn(\n",
      "/Library/Frameworks/Python.framework/Versions/3.9/lib/python3.9/site-packages/sklearn/svm/_base.py:1225: ConvergenceWarning: Liblinear failed to converge, increase the number of iterations.\n",
      "  warnings.warn(\n",
      "/Library/Frameworks/Python.framework/Versions/3.9/lib/python3.9/site-packages/sklearn/svm/_base.py:1225: ConvergenceWarning: Liblinear failed to converge, increase the number of iterations.\n",
      "  warnings.warn(\n",
      "/Library/Frameworks/Python.framework/Versions/3.9/lib/python3.9/site-packages/sklearn/svm/_base.py:1225: ConvergenceWarning: Liblinear failed to converge, increase the number of iterations.\n",
      "  warnings.warn(\n",
      "/Library/Frameworks/Python.framework/Versions/3.9/lib/python3.9/site-packages/sklearn/svm/_base.py:1225: ConvergenceWarning: Liblinear failed to converge, increase the number of iterations.\n",
      "  warnings.warn(\n",
      "/Library/Frameworks/Python.framework/Versions/3.9/lib/python3.9/site-packages/sklearn/svm/_base.py:1225: ConvergenceWarning: Liblinear failed to converge, increase the number of iterations.\n",
      "  warnings.warn(\n",
      "/Library/Frameworks/Python.framework/Versions/3.9/lib/python3.9/site-packages/sklearn/svm/_base.py:1225: ConvergenceWarning: Liblinear failed to converge, increase the number of iterations.\n",
      "  warnings.warn(\n",
      "/Library/Frameworks/Python.framework/Versions/3.9/lib/python3.9/site-packages/sklearn/svm/_base.py:1225: ConvergenceWarning: Liblinear failed to converge, increase the number of iterations.\n",
      "  warnings.warn(\n",
      "/Library/Frameworks/Python.framework/Versions/3.9/lib/python3.9/site-packages/sklearn/svm/_base.py:1225: ConvergenceWarning: Liblinear failed to converge, increase the number of iterations.\n",
      "  warnings.warn(\n",
      "/Library/Frameworks/Python.framework/Versions/3.9/lib/python3.9/site-packages/sklearn/svm/_base.py:1225: ConvergenceWarning: Liblinear failed to converge, increase the number of iterations.\n",
      "  warnings.warn(\n",
      "/Library/Frameworks/Python.framework/Versions/3.9/lib/python3.9/site-packages/sklearn/svm/_base.py:1225: ConvergenceWarning: Liblinear failed to converge, increase the number of iterations.\n",
      "  warnings.warn(\n",
      "/Library/Frameworks/Python.framework/Versions/3.9/lib/python3.9/site-packages/sklearn/svm/_base.py:1225: ConvergenceWarning: Liblinear failed to converge, increase the number of iterations.\n",
      "  warnings.warn(\n",
      "/Library/Frameworks/Python.framework/Versions/3.9/lib/python3.9/site-packages/sklearn/svm/_base.py:1225: ConvergenceWarning: Liblinear failed to converge, increase the number of iterations.\n",
      "  warnings.warn(\n",
      "/Library/Frameworks/Python.framework/Versions/3.9/lib/python3.9/site-packages/sklearn/svm/_base.py:1225: ConvergenceWarning: Liblinear failed to converge, increase the number of iterations.\n",
      "  warnings.warn(\n",
      "/Library/Frameworks/Python.framework/Versions/3.9/lib/python3.9/site-packages/sklearn/svm/_base.py:1225: ConvergenceWarning: Liblinear failed to converge, increase the number of iterations.\n",
      "  warnings.warn(\n",
      "/Library/Frameworks/Python.framework/Versions/3.9/lib/python3.9/site-packages/sklearn/svm/_base.py:1225: ConvergenceWarning: Liblinear failed to converge, increase the number of iterations.\n",
      "  warnings.warn(\n",
      "/Library/Frameworks/Python.framework/Versions/3.9/lib/python3.9/site-packages/sklearn/svm/_base.py:1225: ConvergenceWarning: Liblinear failed to converge, increase the number of iterations.\n",
      "  warnings.warn(\n",
      "/Library/Frameworks/Python.framework/Versions/3.9/lib/python3.9/site-packages/sklearn/svm/_base.py:1225: ConvergenceWarning: Liblinear failed to converge, increase the number of iterations.\n",
      "  warnings.warn(\n",
      "/Library/Frameworks/Python.framework/Versions/3.9/lib/python3.9/site-packages/sklearn/svm/_base.py:1225: ConvergenceWarning: Liblinear failed to converge, increase the number of iterations.\n",
      "  warnings.warn(\n",
      "/Library/Frameworks/Python.framework/Versions/3.9/lib/python3.9/site-packages/sklearn/svm/_base.py:1225: ConvergenceWarning: Liblinear failed to converge, increase the number of iterations.\n",
      "  warnings.warn(\n"
     ]
    },
    {
     "name": "stdout",
     "output_type": "stream",
     "text": [
      "C: {'C': 0.01}\n"
     ]
    },
    {
     "name": "stderr",
     "output_type": "stream",
     "text": [
      "/Library/Frameworks/Python.framework/Versions/3.9/lib/python3.9/site-packages/sklearn/svm/_base.py:1225: ConvergenceWarning: Liblinear failed to converge, increase the number of iterations.\n",
      "  warnings.warn(\n"
     ]
    }
   ],
   "source": [
    "# Train on global dataset\n",
    "\n",
    "X_pe_train, X_pe_test, y_pe_train, y_pe_test = splitDataset(df_pe, test_size=0.2, should_have_validation_set=False)\n",
    "\n",
    "LSVR_model.fit(X_pe_train, y_pe_train)\n",
    "\n",
    "print(f'C: {LSVR_model.best_params_}')"
   ]
  },
  {
   "cell_type": "markdown",
   "metadata": {},
   "source": [
    "For the global dataset it seam that the algorithm is not able to converge. After some research, the problem seams to be the scale of the data. So, it might work better on my normalized datasets."
   ]
  },
  {
   "cell_type": "code",
   "execution_count": 16,
   "metadata": {},
   "outputs": [
    {
     "name": "stdout",
     "output_type": "stream",
     "text": [
      "(2554, 4) (639, 4) (2554,) (639,)\n",
      "{'C': 1}\n",
      "R^2 score: 0.503\n"
     ]
    },
    {
     "data": {
      "text/html": [
       "<div>\n",
       "<style scoped>\n",
       "    .dataframe tbody tr th:only-of-type {\n",
       "        vertical-align: middle;\n",
       "    }\n",
       "\n",
       "    .dataframe tbody tr th {\n",
       "        vertical-align: top;\n",
       "    }\n",
       "\n",
       "    .dataframe thead th {\n",
       "        text-align: right;\n",
       "    }\n",
       "</style>\n",
       "<table border=\"1\" class=\"dataframe\">\n",
       "  <thead>\n",
       "    <tr style=\"text-align: right;\">\n",
       "      <th></th>\n",
       "      <th>Coefficient</th>\n",
       "    </tr>\n",
       "  </thead>\n",
       "  <tbody>\n",
       "    <tr>\n",
       "      <th>Access to electricity (% of population)</th>\n",
       "      <td>-0.007</td>\n",
       "    </tr>\n",
       "    <tr>\n",
       "      <th>Access to clean fuels for cooking</th>\n",
       "      <td>0.035</td>\n",
       "    </tr>\n",
       "    <tr>\n",
       "      <th>Renewable energy share in the total final energy consumption (%)</th>\n",
       "      <td>-0.015</td>\n",
       "    </tr>\n",
       "    <tr>\n",
       "      <th>gdp_per_capita</th>\n",
       "      <td>0.517</td>\n",
       "    </tr>\n",
       "    <tr>\n",
       "      <th>Intercept</th>\n",
       "      <td>0.014</td>\n",
       "    </tr>\n",
       "  </tbody>\n",
       "</table>\n",
       "</div>"
      ],
      "text/plain": [
       "                                                    Coefficient\n",
       "Access to electricity (% of population)                  -0.007\n",
       "Access to clean fuels for cooking                         0.035\n",
       "Renewable energy share in the total final energ...       -0.015\n",
       "gdp_per_capita                                            0.517\n",
       "Intercept                                                 0.014"
      ]
     },
     "execution_count": 16,
     "metadata": {},
     "output_type": "execute_result"
    }
   ],
   "source": [
    "# Train on normalized dataset\n",
    "\n",
    "X_nor_pe_train, X_nor_pe_test, y_nor_pe_train, y_nor_pe_test = splitDataset(normalized_df_pe, test_size=0.2, should_have_validation_set=False)\n",
    "\n",
    "LSVR_model_nor.fit(X_nor_pe_train, y_nor_pe_train)\n",
    "\n",
    "print(LSVR_model_nor.best_params_)\n",
    "\n",
    "print(f'R^2 score: {LSVR_model_nor.score(X_nor_pe_train, y_nor_pe_train).round(3)}')\n",
    "\n",
    "LSVR_model_nor_coef = pd.DataFrame(LSVR_model_nor.best_estimator_.coef_, index=X_nor_pe_train.columns, columns=['Coefficient'])\n",
    "LSVR_model_nor_coef.loc['Intercept'] = LSVR_model_nor.best_estimator_.intercept_\n",
    "LSVR_model_nor_coef.round(3)"
   ]
  },
  {
   "cell_type": "code",
   "execution_count": 17,
   "metadata": {},
   "outputs": [
    {
     "name": "stdout",
     "output_type": "stream",
     "text": [
      "(2407, 4) (602, 4) (2407,) (602,)\n",
      "{'C': 0.1}\n",
      "R^2 score: 0.682\n"
     ]
    },
    {
     "data": {
      "text/html": [
       "<div>\n",
       "<style scoped>\n",
       "    .dataframe tbody tr th:only-of-type {\n",
       "        vertical-align: middle;\n",
       "    }\n",
       "\n",
       "    .dataframe tbody tr th {\n",
       "        vertical-align: top;\n",
       "    }\n",
       "\n",
       "    .dataframe thead th {\n",
       "        text-align: right;\n",
       "    }\n",
       "</style>\n",
       "<table border=\"1\" class=\"dataframe\">\n",
       "  <thead>\n",
       "    <tr style=\"text-align: right;\">\n",
       "      <th></th>\n",
       "      <th>Coefficient</th>\n",
       "    </tr>\n",
       "  </thead>\n",
       "  <tbody>\n",
       "    <tr>\n",
       "      <th>Access to electricity (% of population)</th>\n",
       "      <td>-0.013</td>\n",
       "    </tr>\n",
       "    <tr>\n",
       "      <th>Access to clean fuels for cooking</th>\n",
       "      <td>0.114</td>\n",
       "    </tr>\n",
       "    <tr>\n",
       "      <th>Renewable energy share in the total final energy consumption (%)</th>\n",
       "      <td>-0.033</td>\n",
       "    </tr>\n",
       "    <tr>\n",
       "      <th>gdp_per_capita</th>\n",
       "      <td>0.944</td>\n",
       "    </tr>\n",
       "    <tr>\n",
       "      <th>Intercept</th>\n",
       "      <td>0.031</td>\n",
       "    </tr>\n",
       "  </tbody>\n",
       "</table>\n",
       "</div>"
      ],
      "text/plain": [
       "                                                    Coefficient\n",
       "Access to electricity (% of population)                  -0.013\n",
       "Access to clean fuels for cooking                         0.114\n",
       "Renewable energy share in the total final energ...       -0.033\n",
       "gdp_per_capita                                            0.944\n",
       "Intercept                                                 0.031"
      ]
     },
     "execution_count": 17,
     "metadata": {},
     "output_type": "execute_result"
    }
   ],
   "source": [
    "# Train on normalized dataset without outliers\n",
    "\n",
    "X_nor_pe_wo_train, X_nor_pe_wo_test, y_nor_pe_wo_train, y_nor_pe_wo_test = splitDataset(normalized_df_pe_without_outliers, test_size=0.2, should_have_validation_set=False)\n",
    "\n",
    "LSVR_model_nor_wo.fit(X_nor_pe_wo_train, y_nor_pe_wo_train)\n",
    "\n",
    "print(LSVR_model_nor_wo.best_params_)\n",
    "print(f'R^2 score: {LSVR_model_nor_wo.score(X_nor_pe_wo_train, y_nor_pe_wo_train).round(3)}')\n",
    "\n",
    "LSVR_model_nor_wo_coef = pd.DataFrame(LSVR_model_nor_wo.best_estimator_.coef_, index=X_nor_pe_wo_train.columns, columns=['Coefficient'])\n",
    "LSVR_model_nor_wo_coef.loc['Intercept'] = LSVR_model_nor_wo.best_estimator_.intercept_\n",
    "LSVR_model_nor_wo_coef.round(3)"
   ]
  },
  {
   "cell_type": "markdown",
   "metadata": {},
   "source": [
    "## Conclusion about model training\n",
    "\n",
    "As the Linear SVR model is not able to converge on the global dataset, I will remove it from the possible models to predict the primary energy consumption. Here's a sum up of the models I'll use after for testing and verification:\n",
    "\n",
    "| Model                           \t| Hyperparameters \t| $R^2$ Score \t|\n",
    "| --------------------------------\t| ----------------\t|----------\t|\n",
    "| Linear Regression (LR)          \t| -               \t| 0.55     \t|\n",
    "| Normalized LR                   \t| -               \t| 0.545    \t|\n",
    "| Normalized LR without outliers  \t| -               \t| 0.707    \t|\n",
    "| Elastic Net (EN)                \t| $\\alpha = 10$, $l1_{ratio} = 0.5$       \t| 0.546     \t|\n",
    "| Normalized EN                   \t| $\\alpha = 10^{-5}$, $l1_{ratio} = 0.5$       \t| 0.544    \t|\n",
    "| Normalized EN without outliers  \t| $\\alpha = 10^{-5}$, $l1_{ratio} = 0.1$     \t| 0.716    \t|\n",
    "| Normalized LSVR                 \t| $c = 1$         \t| 0.486    \t|\n",
    "| Normalized LSVR without outliers \t| $c = 0.1$         \t| 0.678    \t|"
   ]
  },
  {
   "cell_type": "markdown",
   "metadata": {},
   "source": [
    "# ML model Testing (Question 4 of the Homework)\n",
    "\n",
    "Steps with metrics to evaluate our model: https://www.freecodecamp.org/news/how-to-build-and-train-linear-and-logistic-regression-ml-models-in-python/"
   ]
  },
  {
   "cell_type": "code",
   "execution_count": 47,
   "metadata": {},
   "outputs": [
    {
     "data": {
      "image/png": "[encoded data removed]",
      "text/plain": [
       "<Figure size 1440x504 with 3 Axes>"
      ]
     },
     "metadata": {},
     "output_type": "display_data"
    }
   ],
   "source": [
    "LR_model_pred = LR_model.predict(X_pe_test)\n",
    "LR_model_nor_pred = LR_model_nor.predict(X_nor_pe_test)\n",
    "LR_model_nor_wo_pred = LR_model_nor_wo.predict(X_nor_pe_wo_test)\n",
    "\n",
    "residuals = y_pe_test - LR_model_pred\n",
    "residuals_nor = y_nor_pe_test - LR_model_nor_pred\n",
    "residuals_nor_wo = y_nor_pe_wo_test - LR_model_nor_wo_pred\n",
    "\n",
    "fig, ax = plt.subplots(1, 3, figsize=(20, 7))\n",
    "sns.histplot(residuals, ax=ax[0], kde=True).set_title(label='Global dataset', fontdict={'fontsize': 14, 'fontweight': 'bold'})\n",
    "sns.histplot(residuals_nor, ax=ax[1], kde=True).set_title(label='Normalized dataset', fontdict={'fontsize': 14, 'fontweight': 'bold'})\n",
    "sns.histplot(residuals_nor_wo, ax=ax[2], kde=True).set_title(label='Normalized dataset without outliers', fontdict={'fontsize': 14, 'fontweight': 'bold'})\n",
    "fig.suptitle('Residuals distribution', fontsize=20, fontweight='bold')\n",
    "plt.savefig('../img/residuals_distribution.png', dpi=200, bbox_inches='tight')\n"
   ]
  }
 ],
 "metadata": {
  "kernelspec": {
   "display_name": "Python 3",
   "language": "python",
   "name": "python3"
  },
  "language_info": {
   "codemirror_mode": {
    "name": "ipython",
    "version": 3
   },
   "file_extension": ".py",
   "mimetype": "text/x-python",
   "name": "python",
   "nbconvert_exporter": "python",
   "pygments_lexer": "ipython3",
   "version": "3.9.6"
  }
 },
 "nbformat": 4,
 "nbformat_minor": 2
}
