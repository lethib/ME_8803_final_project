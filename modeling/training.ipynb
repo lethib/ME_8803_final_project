{
 "cells": [
  {
   "cell_type": "markdown",
   "metadata": {},
   "source": [
    "# ML model Training (Question 3 of the Homework)"
   ]
  },
  {
   "cell_type": "code",
   "execution_count": 1,
   "metadata": {},
   "outputs": [],
   "source": [
    "# Standard imports\n",
    "import pandas as pd\n",
    "import numpy as np\n",
    "import matplotlib.pyplot as plt\n",
    "import seaborn as sns"
   ]
  },
  {
   "cell_type": "code",
   "execution_count": 2,
   "metadata": {},
   "outputs": [],
   "source": [
    "# Read datasets\n",
    "\n",
    "df_pe = pd.read_csv(\"../data/pe/cleaned/pe_dataset.csv\")\n",
    "normalized_df_pe = pd.read_csv(\"../data/pe/cleaned/normalized_pe_dataset.csv\")\n",
    "normalized_df_pe_without_outliers = pd.read_csv(\"../data/pe/cleaned/normalized_pe_dataset_without_outliers.csv\")"
   ]
  },
  {
   "cell_type": "markdown",
   "metadata": {},
   "source": [
    "## Linear Regression\n",
    "\n",
    "As seen in the [ML algorithm selection notebook](ML_algorithm_selection.ipynb), the linear model does not have any hyperparameters to tune. Therefore, cross-validation is not required. We can split our datasets into training, testing and validation sets like so:\n",
    "\n",
    "- Training set: 70%\n",
    "- Testing set: 15%\n",
    "- Validation set: 15%\n",
    "\n",
    "To do that, I'll use the `train_test_split` function from `sklearn.model_selection` module. This function provides parameters to shuffle or not our dataset before splitting it. I'll set the `shuffle` parameter to `True` to ensure that the data is shuffled before splitting it. According to [scikit-learn documentation](https://scikit-learn.org/stable/glossary.html#term-random_state), by default the function will use the global random state from `np.random` module to shuffle the data. \n",
    "\n",
    "NOTE: I don't see the use here of having reproducible results, so I'll leave the `random_state` parameter to `None`."
   ]
  },
  {
   "cell_type": "code",
   "execution_count": 11,
   "metadata": {},
   "outputs": [],
   "source": [
    "def splitDataset(df, test_size=0.15):\n",
    "    from sklearn.model_selection import train_test_split\n",
    "    X = df.drop(columns=['Entity', 'Year','Primary energy consumption per capita (kWh/person)'])\n",
    "    y = df['Primary energy consumption per capita (kWh/person)']\n",
    "    X_pretrain, X_test, y_pretrain, y_test = train_test_split(X, y, test_size=test_size, shuffle=True, random_state=None)\n",
    "    X_train, X_val, y_train, y_val = train_test_split(X_pretrain, y_pretrain, test_size=test_size, shuffle=True, random_state=None)\n",
    "    print(X_train.shape, X_test.shape, X_val.shape, y_train.shape, y_test.shape, y_val.shape)\n",
    "    return X_train, X_test, X_val, y_train, y_test, y_val"
   ]
  },
  {
   "cell_type": "code",
   "execution_count": 13,
   "metadata": {},
   "outputs": [
    {
     "name": "stdout",
     "output_type": "stream",
     "text": [
      "(2306, 4) (479, 4) (408, 4) (2306,) (479,) (408,)\n",
      "(2306, 4) (479, 4) (408, 4) (2306,) (479,) (408,)\n",
      "(2173, 4) (452, 4) (384, 4) (2173,) (452,) (384,)\n"
     ]
    }
   ],
   "source": [
    "# Split datasets into train, test and validation sets\n",
    "X_pe_train, X_pe_test, X_pe_val, y_pe_train, y_pe_test, y_pe_val = splitDataset(df_pe)\n",
    "\n",
    "# nor -> normalized\n",
    "X_nor_pe_train, X_nor_pe_test, X_nor_pe_val, y_nor_pe_train, y_nor_pe_test, y_nor_pe_val = splitDataset(normalized_df_pe)\n",
    "\n",
    "# nor_wo -> normalized without outliers\n",
    "X_nor_pe_wo_train, X_nor_pe_wo_test, X_nor_pe_wo_val, y_nor_pe_wo_train, y_nor_pe_wo_test, y_nor_pe_wo_val = splitDataset(normalized_df_pe_without_outliers)\n"
   ]
  }
 ],
 "metadata": {
  "kernelspec": {
   "display_name": "Python 3",
   "language": "python",
   "name": "python3"
  },
  "language_info": {
   "codemirror_mode": {
    "name": "ipython",
    "version": 3
   },
   "file_extension": ".py",
   "mimetype": "text/x-python",
   "name": "python",
   "nbconvert_exporter": "python",
   "pygments_lexer": "ipython3",
   "version": "3.9.6"
  }
 },
 "nbformat": 4,
 "nbformat_minor": 2
}
