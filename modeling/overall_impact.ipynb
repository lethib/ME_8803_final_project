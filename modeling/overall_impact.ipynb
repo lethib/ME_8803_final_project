{
 "cells": [
  {
   "cell_type": "markdown",
   "metadata": {},
   "source": [
    "# Overall Impact\n",
    "\n",
    "The aim of this notebook is to assess the overall impact of the ML modeling."
   ]
  },
  {
   "cell_type": "markdown",
   "metadata": {},
   "source": [
    "## 1.1. Performance against random guessing\n",
    "\n",
    "Accuracies that I have obtained with all the models are way above 0.5, which is the accuracy that we would obtain if we were to randomly guess. This is a good sign, as it means that the models are learning something from the data."
   ]
  },
  {
   "cell_type": "markdown",
   "metadata": {},
   "source": [
    "## 1.2. Modeling approach against other projects\n",
    "\n",
    "On Kaggle, many notebooks are not that detailed. When I was looking what other users have done, many were answering the same problem with sometimes different models. Also not a lot of explanations were given. I have tried to be as detailed as possible in my approach, and I have tried to use different models to see which one would perform the best."
   ]
  },
  {
   "cell_type": "markdown",
   "metadata": {},
   "source": [
    "## 1.3. Does the model solved the problem\n",
    "\n",
    "As discussed at the end of the [training_testing notebook](./training_testing.ipynb), the model that performed the best truely answer the problem asked."
   ]
  },
  {
   "cell_type": "markdown",
   "metadata": {},
   "source": [
    "## 2.1. Broader impacts of the ML modeling\n",
    "\n",
    "This model can be used for other studies or anyone that would like to predict the Primary Energy Consumption per Capita of a country given some of its characteristics (GPD, Access to electricy, Renewable Energy Consumption, etc.). If data are within the same range as the data used for this project, the model should perform well (take the Elastic Net model if your data are part of outliers). "
   ]
  },
  {
   "cell_type": "markdown",
   "metadata": {},
   "source": [
    "## 2.2. Models limited to this dataset\n",
    "\n",
    "Even though my models are quite general (justa bit of hyperparameter tuning), models that are trained with the normalized dataset without outliers are quite specific to this dataset. "
   ]
  },
  {
   "cell_type": "markdown",
   "metadata": {},
   "source": [
    "## 2.3. Model improvement\n",
    "\n",
    "The model could be improved by adding more data around the outliers that I have identified. By doing that, we will have better results for the global and normalized datasets. Doing some data augmentation can be useful for this task but won't really represent the reality of the world."
   ]
  }
 ],
 "metadata": {
  "language_info": {
   "name": "python"
  }
 },
 "nbformat": 4,
 "nbformat_minor": 2
}
