{
 "cells": [
  {
   "cell_type": "markdown",
   "metadata": {},
   "source": [
    "# Feature Engineering (Question 1 of the Homework)\n",
    "\n",
    "The goal of this notebook is to describe the set of data features used for Machine Learning modeling."
   ]
  },
  {
   "cell_type": "markdown",
   "metadata": {},
   "source": [
    "## 1. Supervised or Unsupervised Learning?\n",
    "\n",
    "As discussed in the [`next_steps` notebook](../EDA/next_steps.ipynb), the goal of this project is to predict the **Primary Energy consumption per Capita** using regression algorithms. Regressions algorithm are supervised Machine Learning algorithms.\n",
    "\n",
    "Inputs and outputs features have already been determined in [this notebook](../EDA/next_steps.ipynb):\n",
    "\n",
    "| Features | Factor | Cofactor | Response |\n",
    "| ----------------- | :---------: | :---------: | :---------: |\n",
    "| Access to electricity (% of population)                           | X | | |\n",
    "| Access to clean fuels for cooking                                 | X | | |\n",
    "| Renewable energy share in the total final energy consumption (%)  | X | | |\n",
    "| Primary energy consumption per capita (kWh/person)                | |  | X |\n",
    "| GDP per capita                                                    | X | | |\n",
    "\n",
    "We do not have any cofactors because I have picked only features that are highly correlated with the response variable (Primary energy consumption per capita)."
   ]
  },
  {
   "cell_type": "markdown",
   "metadata": {},
   "source": [
    "## 2. Features Details\n",
    "\n",
    "Based on the Exploratory Data Analysis, I have saved 3 different datasets to train my regression models:\n",
    "\n",
    "1. [`pe_dataset.csv`](../data/pe/pe_dataset.csv): This dataset contains all the rows of the main dataset but has only targetted features (inputs and outputs + country name and year).\n",
    "2. [`normalized_pe_dataset.csv`](../data/pe/normalized_pe_dataset.csv): Same as `pe_dataset.csv` but with normalized numerical features.\n",
    "3. [`normalized_pe_dataset_without_outliers.csv`](../data/pe/normalized_pe_dataset_without_outliers.csv): Same as `normalized_pe_dataset.csv` but without top outliers.\n",
    "\n",
    "It will be interesting to watch how the models perform on each dataset. Data features were not collected from experiments or simulations but based on administratives sources, measurements and surveys. More details about that in the [dataset description notebook](../EDA/dataset_description.ipynb).\n",
    "\n",
    "No Machine Learning models, no data augmentation and PCA have been used to derive the features. Daata features are the raw values from the main dataset that has only been normalized for the second and third datasets.\n"
   ]
  },
  {
   "cell_type": "markdown",
   "metadata": {},
   "source": [
    "## 3. Features types\n",
    "\n",
    "As discussed in the [`datset_sampling` notebook](../EDA/dataset_sampling.ipynb), all of the features (inputs and outputs) are modeled as continuous distributions (I don't take into account the country name and the year which are not relevant). Moreover, all of the features are numerical."
   ]
  },
  {
   "cell_type": "markdown",
   "metadata": {},
   "source": [
    "## 4. Data Cleaning"
   ]
  }
 ],
 "metadata": {
  "language_info": {
   "name": "python"
  }
 },
 "nbformat": 4,
 "nbformat_minor": 2
}
