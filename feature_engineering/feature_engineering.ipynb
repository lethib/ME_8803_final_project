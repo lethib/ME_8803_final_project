{
 "cells": [
  {
   "cell_type": "markdown",
   "metadata": {},
   "source": [
    "# Feature Engineering (Question 1 of the Homework)\n",
    "\n",
    "The goal of this notebook is to describe the set of data features used for Machine Learning modeling."
   ]
  },
  {
   "cell_type": "code",
   "execution_count": 1,
   "metadata": {},
   "outputs": [],
   "source": [
    "# Standard imports\n",
    "\n",
    "import pandas as pd\n",
    "import numpy as np\n",
    "import matplotlib.pyplot as plt\n",
    "import seaborn as sns"
   ]
  },
  {
   "cell_type": "markdown",
   "metadata": {},
   "source": [
    "## 1. Supervised or Unsupervised Learning?\n",
    "\n",
    "As discussed in the [`next_steps` notebook](../EDA/next_steps.ipynb), the goal of this project is to predict the **Primary Energy consumption per Capita** using regression algorithms. Regressions algorithm are supervised Machine Learning algorithms.\n",
    "\n",
    "Inputs and outputs features have already been determined in [this notebook](../EDA/next_steps.ipynb):\n",
    "\n",
    "| Features | Factor | Cofactor | Response |\n",
    "| ----------------- | :---------: | :---------: | :---------: |\n",
    "| Access to electricity (% of population)                           | X | | |\n",
    "| Access to clean fuels for cooking                                 | X | | |\n",
    "| Renewable energy share in the total final energy consumption (%)  | X | | |\n",
    "| Primary energy consumption per capita (kWh/person)                | |  | X |\n",
    "| GDP per capita                                                    | X | | |\n",
    "\n",
    "We do not have any cofactors because I have picked only features that are highly correlated with the response variable (Primary energy consumption per capita)."
   ]
  },
  {
   "cell_type": "markdown",
   "metadata": {},
   "source": [
    "## 2. Features Details\n",
    "\n",
    "Based on the Exploratory Data Analysis, I have saved 3 different datasets to train my regression models:\n",
    "\n",
    "1. [`pe_dataset.csv`](../data/pe/pe_dataset.csv): This dataset contains all the rows of the main dataset but has only targetted features (inputs and outputs + country name and year).\n",
    "2. [`normalized_pe_dataset.csv`](../data/pe/normalized_pe_dataset.csv): Same as `pe_dataset.csv` but with normalized numerical features.\n",
    "3. [`normalized_pe_dataset_without_outliers.csv`](../data/pe/normalized_pe_dataset_without_outliers.csv): Same as `normalized_pe_dataset.csv` but without top outliers.\n",
    "\n",
    "It will be interesting to watch how the models perform on each dataset. Data features were not collected from experiments or simulations but based on administratives sources, measurements and surveys. More details about that in the [dataset description notebook](../EDA/dataset_description.ipynb).\n",
    "\n",
    "No Machine Learning models, no data augmentation and PCA have been used to derive the features. Daata features are the raw values from the main dataset that has only been normalized for the second and third datasets.\n"
   ]
  },
  {
   "cell_type": "markdown",
   "metadata": {},
   "source": [
    "## 3. Features types\n",
    "\n",
    "As discussed in the [`datset_sampling` notebook](../EDA/dataset_sampling.ipynb), all of the features (inputs and outputs) are modeled as continuous distributions (I don't take into account the country name and the year which are not relevant). Moreover, all of the features are numerical."
   ]
  },
  {
   "cell_type": "markdown",
   "metadata": {},
   "source": [
    "## 4. Data Cleaning"
   ]
  },
  {
   "cell_type": "code",
   "execution_count": 36,
   "metadata": {},
   "outputs": [
    {
     "name": "stdout",
     "output_type": "stream",
     "text": [
      "<class 'pandas.core.frame.DataFrame'>\n",
      "RangeIndex: 3649 entries, 0 to 3648\n",
      "Data columns (total 7 columns):\n",
      " #   Column                                                            Non-Null Count  Dtype  \n",
      "---  ------                                                            --------------  -----  \n",
      " 0   Entity                                                            3649 non-null   object \n",
      " 1   Year                                                              3649 non-null   int64  \n",
      " 2   Access to electricity (% of population)                           3639 non-null   float64\n",
      " 3   Access to clean fuels for cooking                                 3480 non-null   float64\n",
      " 4   Renewable energy share in the total final energy consumption (%)  3455 non-null   float64\n",
      " 5   Primary energy consumption per capita (kWh/person)                3649 non-null   float64\n",
      " 6   gdp_per_capita                                                    3367 non-null   float64\n",
      "dtypes: float64(5), int64(1), object(1)\n",
      "memory usage: 199.7+ KB\n"
     ]
    }
   ],
   "source": [
    "df_pe = pd.read_csv(\"../data/pe/pe_dataset.csv\")\n",
    "df_pe.info()"
   ]
  },
  {
   "cell_type": "code",
   "execution_count": 37,
   "metadata": {},
   "outputs": [
    {
     "data": {
      "text/html": [
       "<div>\n",
       "<style scoped>\n",
       "    .dataframe tbody tr th:only-of-type {\n",
       "        vertical-align: middle;\n",
       "    }\n",
       "\n",
       "    .dataframe tbody tr th {\n",
       "        vertical-align: top;\n",
       "    }\n",
       "\n",
       "    .dataframe thead th {\n",
       "        text-align: right;\n",
       "    }\n",
       "</style>\n",
       "<table border=\"1\" class=\"dataframe\">\n",
       "  <thead>\n",
       "    <tr style=\"text-align: right;\">\n",
       "      <th></th>\n",
       "      <th>Entity</th>\n",
       "      <th>Year</th>\n",
       "      <th>Access to electricity (% of population)</th>\n",
       "      <th>Access to clean fuels for cooking</th>\n",
       "      <th>Renewable energy share in the total final energy consumption (%)</th>\n",
       "      <th>Primary energy consumption per capita (kWh/person)</th>\n",
       "      <th>gdp_per_capita</th>\n",
       "    </tr>\n",
       "  </thead>\n",
       "  <tbody>\n",
       "    <tr>\n",
       "      <th>0</th>\n",
       "      <td>Afghanistan</td>\n",
       "      <td>2000</td>\n",
       "      <td>1.613591</td>\n",
       "      <td>6.20</td>\n",
       "      <td>44.99</td>\n",
       "      <td>302.59482</td>\n",
       "      <td>NaN</td>\n",
       "    </tr>\n",
       "    <tr>\n",
       "      <th>1</th>\n",
       "      <td>Afghanistan</td>\n",
       "      <td>2001</td>\n",
       "      <td>4.074574</td>\n",
       "      <td>7.20</td>\n",
       "      <td>45.60</td>\n",
       "      <td>236.89185</td>\n",
       "      <td>NaN</td>\n",
       "    </tr>\n",
       "    <tr>\n",
       "      <th>20</th>\n",
       "      <td>Afghanistan</td>\n",
       "      <td>2020</td>\n",
       "      <td>97.700000</td>\n",
       "      <td>33.20</td>\n",
       "      <td>NaN</td>\n",
       "      <td>702.88800</td>\n",
       "      <td>516.747871</td>\n",
       "    </tr>\n",
       "    <tr>\n",
       "      <th>21</th>\n",
       "      <td>Albania</td>\n",
       "      <td>2000</td>\n",
       "      <td>100.000000</td>\n",
       "      <td>38.20</td>\n",
       "      <td>NaN</td>\n",
       "      <td>9029.43750</td>\n",
       "      <td>1126.683340</td>\n",
       "    </tr>\n",
       "    <tr>\n",
       "      <th>22</th>\n",
       "      <td>Albania</td>\n",
       "      <td>2001</td>\n",
       "      <td>100.000000</td>\n",
       "      <td>40.50</td>\n",
       "      <td>NaN</td>\n",
       "      <td>8635.53200</td>\n",
       "      <td>1281.659826</td>\n",
       "    </tr>\n",
       "    <tr>\n",
       "      <th>...</th>\n",
       "      <td>...</td>\n",
       "      <td>...</td>\n",
       "      <td>...</td>\n",
       "      <td>...</td>\n",
       "      <td>...</td>\n",
       "      <td>...</td>\n",
       "      <td>...</td>\n",
       "    </tr>\n",
       "    <tr>\n",
       "      <th>3603</th>\n",
       "      <td>Yemen</td>\n",
       "      <td>2017</td>\n",
       "      <td>79.200000</td>\n",
       "      <td>61.35</td>\n",
       "      <td>2.80</td>\n",
       "      <td>1288.87670</td>\n",
       "      <td>NaN</td>\n",
       "    </tr>\n",
       "    <tr>\n",
       "      <th>3604</th>\n",
       "      <td>Yemen</td>\n",
       "      <td>2018</td>\n",
       "      <td>62.000000</td>\n",
       "      <td>61.50</td>\n",
       "      <td>3.60</td>\n",
       "      <td>1170.72610</td>\n",
       "      <td>NaN</td>\n",
       "    </tr>\n",
       "    <tr>\n",
       "      <th>3605</th>\n",
       "      <td>Yemen</td>\n",
       "      <td>2019</td>\n",
       "      <td>72.751076</td>\n",
       "      <td>61.30</td>\n",
       "      <td>3.11</td>\n",
       "      <td>1475.98520</td>\n",
       "      <td>NaN</td>\n",
       "    </tr>\n",
       "    <tr>\n",
       "      <th>3606</th>\n",
       "      <td>Yemen</td>\n",
       "      <td>2020</td>\n",
       "      <td>73.757930</td>\n",
       "      <td>61.50</td>\n",
       "      <td>NaN</td>\n",
       "      <td>1092.00210</td>\n",
       "      <td>NaN</td>\n",
       "    </tr>\n",
       "    <tr>\n",
       "      <th>3627</th>\n",
       "      <td>Zambia</td>\n",
       "      <td>2020</td>\n",
       "      <td>44.524475</td>\n",
       "      <td>10.40</td>\n",
       "      <td>NaN</td>\n",
       "      <td>3099.08300</td>\n",
       "      <td>985.132436</td>\n",
       "    </tr>\n",
       "  </tbody>\n",
       "</table>\n",
       "<p>622 rows × 7 columns</p>\n",
       "</div>"
      ],
      "text/plain": [
       "           Entity  Year  Access to electricity (% of population)  \\\n",
       "0     Afghanistan  2000                                 1.613591   \n",
       "1     Afghanistan  2001                                 4.074574   \n",
       "20    Afghanistan  2020                                97.700000   \n",
       "21        Albania  2000                               100.000000   \n",
       "22        Albania  2001                               100.000000   \n",
       "...           ...   ...                                      ...   \n",
       "3603        Yemen  2017                                79.200000   \n",
       "3604        Yemen  2018                                62.000000   \n",
       "3605        Yemen  2019                                72.751076   \n",
       "3606        Yemen  2020                                73.757930   \n",
       "3627       Zambia  2020                                44.524475   \n",
       "\n",
       "      Access to clean fuels for cooking  \\\n",
       "0                                  6.20   \n",
       "1                                  7.20   \n",
       "20                                33.20   \n",
       "21                                38.20   \n",
       "22                                40.50   \n",
       "...                                 ...   \n",
       "3603                              61.35   \n",
       "3604                              61.50   \n",
       "3605                              61.30   \n",
       "3606                              61.50   \n",
       "3627                              10.40   \n",
       "\n",
       "      Renewable energy share in the total final energy consumption (%)  \\\n",
       "0                                                 44.99                  \n",
       "1                                                 45.60                  \n",
       "20                                                  NaN                  \n",
       "21                                                  NaN                  \n",
       "22                                                  NaN                  \n",
       "...                                                 ...                  \n",
       "3603                                               2.80                  \n",
       "3604                                               3.60                  \n",
       "3605                                               3.11                  \n",
       "3606                                                NaN                  \n",
       "3627                                                NaN                  \n",
       "\n",
       "      Primary energy consumption per capita (kWh/person)  gdp_per_capita  \n",
       "0                                             302.59482              NaN  \n",
       "1                                             236.89185              NaN  \n",
       "20                                            702.88800       516.747871  \n",
       "21                                           9029.43750      1126.683340  \n",
       "22                                           8635.53200      1281.659826  \n",
       "...                                                 ...              ...  \n",
       "3603                                         1288.87670              NaN  \n",
       "3604                                         1170.72610              NaN  \n",
       "3605                                         1475.98520              NaN  \n",
       "3606                                         1092.00210              NaN  \n",
       "3627                                         3099.08300       985.132436  \n",
       "\n",
       "[622 rows x 7 columns]"
      ]
     },
     "execution_count": 37,
     "metadata": {},
     "output_type": "execute_result"
    }
   ],
   "source": [
    "df_pe[df_pe.isna().any(axis=1)]"
   ]
  },
  {
   "cell_type": "markdown",
   "metadata": {},
   "source": [
    "As the dataset is devided by countries, doing a hot deck imputation directly on all the dataset would be a mistake. For instance, data for *France* and for *Yemen* are not comparable. In one hand we have a developed country and in the other hand we have a developing country. Therefore, it is better to do a hot deck imputation for each country separately."
   ]
  },
  {
   "cell_type": "code",
   "execution_count": 40,
   "metadata": {},
   "outputs": [
    {
     "data": {
      "text/plain": [
       "Text(0.5, 1.0, 'Missing values for each feature in the dataset')"
      ]
     },
     "execution_count": 40,
     "metadata": {},
     "output_type": "execute_result"
    },
    {
     "data": {
      "image/png": "[encoded data removed]",
      "text/plain": [
       "<Figure size 1440x720 with 1 Axes>"
      ]
     },
     "metadata": {
      "needs_background": "light"
     },
     "output_type": "display_data"
    }
   ],
   "source": [
    "plt.figure(figsize=(20,10))\n",
    "sns.heatmap(df_pe.isnull(), cbar=False)\n",
    "plt.ylabel('index', fontweight='bold', fontsize=12)\n",
    "plt.xlabel('features', fontweight='bold', fontsize=12)\n",
    "plt.title('Missing values for each feature in the dataset', fontweight='bold', fontsize=15)"
   ]
  },
  {
   "cell_type": "markdown",
   "metadata": {},
   "source": [
    "Due to the fact that we don't have a huge amount of missing values that will be imputed, I have decided to use an interpolation startegy for each country (it might not change a lot the distribution). "
   ]
  },
  {
   "cell_type": "code",
   "execution_count": 38,
   "metadata": {},
   "outputs": [
    {
     "data": {
      "text/plain": [
       "array(['Afghanistan', 'Albania', 'Algeria', 'Angola',\n",
       "       'Antigua and Barbuda', 'Argentina', 'Armenia', 'Aruba',\n",
       "       'Australia', 'Austria', 'Azerbaijan', 'Bahamas', 'Bahrain',\n",
       "       'Bangladesh', 'Barbados', 'Belarus', 'Belgium', 'Belize', 'Benin',\n",
       "       'Bermuda', 'Bhutan', 'Bosnia and Herzegovina', 'Botswana',\n",
       "       'Brazil', 'Bulgaria', 'Burkina Faso', 'Burundi', 'Cambodia',\n",
       "       'Cameroon', 'Canada', 'Cayman Islands', 'Central African Republic',\n",
       "       'Chad', 'Chile', 'China', 'Colombia', 'Comoros', 'Congo',\n",
       "       'Costa Rica', 'Croatia', 'Cuba', 'Cyprus', 'Czechia', 'Denmark',\n",
       "       'Djibouti', 'Dominica', 'Dominican Republic', 'Ecuador', 'Egypt',\n",
       "       'El Salvador', 'Equatorial Guinea', 'Eritrea', 'Estonia',\n",
       "       'Eswatini', 'Ethiopia', 'Fiji', 'Finland', 'France',\n",
       "       'French Guiana', 'Gabon', 'Gambia', 'Georgia', 'Germany', 'Ghana',\n",
       "       'Greece', 'Grenada', 'Guatemala', 'Guinea', 'Guinea-Bissau',\n",
       "       'Guyana', 'Haiti', 'Honduras', 'Hungary', 'Iceland', 'India',\n",
       "       'Indonesia', 'Iraq', 'Ireland', 'Israel', 'Italy', 'Jamaica',\n",
       "       'Japan', 'Jordan', 'Kazakhstan', 'Kenya', 'Kiribati', 'Kuwait',\n",
       "       'Kyrgyzstan', 'Latvia', 'Lebanon', 'Lesotho', 'Liberia', 'Libya',\n",
       "       'Lithuania', 'Luxembourg', 'Madagascar', 'Malawi', 'Malaysia',\n",
       "       'Maldives', 'Mali', 'Malta', 'Mauritania', 'Mauritius', 'Mexico',\n",
       "       'Mongolia', 'Montenegro', 'Morocco', 'Mozambique', 'Myanmar',\n",
       "       'Namibia', 'Nauru', 'Nepal', 'Netherlands', 'New Caledonia',\n",
       "       'New Zealand', 'Nicaragua', 'Niger', 'Nigeria', 'North Macedonia',\n",
       "       'Norway', 'Oman', 'Pakistan', 'Panama', 'Papua New Guinea',\n",
       "       'Paraguay', 'Peru', 'Philippines', 'Poland', 'Portugal',\n",
       "       'Puerto Rico', 'Qatar', 'Romania', 'Rwanda',\n",
       "       'Saint Kitts and Nevis', 'Saint Lucia',\n",
       "       'Saint Vincent and the Grenadines', 'Samoa',\n",
       "       'Sao Tome and Principe', 'Saudi Arabia', 'Senegal', 'Serbia',\n",
       "       'Seychelles', 'Sierra Leone', 'Singapore', 'Slovakia', 'Slovenia',\n",
       "       'Solomon Islands', 'Somalia', 'South Africa', 'South Sudan',\n",
       "       'Spain', 'Sri Lanka', 'Sudan', 'Suriname', 'Sweden', 'Switzerland',\n",
       "       'Tajikistan', 'Thailand', 'Togo', 'Tonga', 'Trinidad and Tobago',\n",
       "       'Tunisia', 'Turkey', 'Turkmenistan', 'Tuvalu', 'Uganda', 'Ukraine',\n",
       "       'United Arab Emirates', 'United Kingdom', 'United States',\n",
       "       'Uruguay', 'Uzbekistan', 'Vanuatu', 'Yemen', 'Zambia', 'Zimbabwe'],\n",
       "      dtype=object)"
      ]
     },
     "execution_count": 38,
     "metadata": {},
     "output_type": "execute_result"
    }
   ],
   "source": [
    "countries = df_pe['Entity'].unique()"
   ]
  },
  {
   "cell_type": "code",
   "execution_count": 39,
   "metadata": {},
   "outputs": [],
   "source": [
    "for country in countries:\n",
    "    df_pe[df_pe['Entity'] == country] = df_pe[df_pe['Entity'] == country].interpolate(method='linear', limit_direction='forward', axis=0)"
   ]
  },
  {
   "cell_type": "markdown",
   "metadata": {},
   "source": [
    "For other missing values, we will drop the rows that contain them. After this step, we still have more than 3,000 rows which is enough to train our models."
   ]
  },
  {
   "cell_type": "code",
   "execution_count": 42,
   "metadata": {},
   "outputs": [
    {
     "name": "stdout",
     "output_type": "stream",
     "text": [
      "<class 'pandas.core.frame.DataFrame'>\n",
      "Int64Index: 3193 entries, 2 to 3648\n",
      "Data columns (total 7 columns):\n",
      " #   Column                                                            Non-Null Count  Dtype  \n",
      "---  ------                                                            --------------  -----  \n",
      " 0   Entity                                                            3193 non-null   object \n",
      " 1   Year                                                              3193 non-null   int64  \n",
      " 2   Access to electricity (% of population)                           3193 non-null   float64\n",
      " 3   Access to clean fuels for cooking                                 3193 non-null   float64\n",
      " 4   Renewable energy share in the total final energy consumption (%)  3193 non-null   float64\n",
      " 5   Primary energy consumption per capita (kWh/person)                3193 non-null   float64\n",
      " 6   gdp_per_capita                                                    3193 non-null   float64\n",
      "dtypes: float64(5), int64(1), object(1)\n",
      "memory usage: 199.6+ KB\n"
     ]
    }
   ],
   "source": [
    "df_pe = df_pe.dropna(axis=0)\n",
    "df_pe.info()"
   ]
  }
 ],
 "metadata": {
  "kernelspec": {
   "display_name": "Python 3",
   "language": "python",
   "name": "python3"
  },
  "language_info": {
   "codemirror_mode": {
    "name": "ipython",
    "version": 3
   },
   "file_extension": ".py",
   "mimetype": "text/x-python",
   "name": "python",
   "nbconvert_exporter": "python",
   "pygments_lexer": "ipython3",
   "version": "3.9.6"
  }
 },
 "nbformat": 4,
 "nbformat_minor": 2
}
